{
  "nbformat": 4,
  "nbformat_minor": 0,
  "metadata": {
    "colab": {
      "name": "Fake News Detection.ipynb",
      "provenance": [],
      "collapsed_sections": []
    },
    "kernelspec": {
      "name": "python3",
      "display_name": "Python 3"
    },
    "language_info": {
      "name": "python"
    }
  },
  "cells": [
    {
      "cell_type": "code",
      "metadata": {
        "id": "BOqrnreN0ruJ"
      },
      "source": [
        "import pandas as pd\n",
        "from sklearn.model_selection import train_test_split\n",
        "from sklearn.preprocessing import LabelEncoder\n",
        "\n",
        "import nltk\n",
        "import string\n",
        "from nltk.corpus import stopwords\n",
        "from nltk.tokenize import word_tokenize\n",
        "from nltk.stem import SnowballStemmer\n",
        "nltk.download('punkt')\n",
        "nltk.download('stopwords')\n",
        "from sklearn.feature_extraction.text import TfidfVectorizer\n",
        "\n",
        "from sklearn.svm import SVC\n",
        "from sklearn.ensemble import RandomForestClassifier\n",
        "from sklearn.ensemble import GradientBoostingClassifier\n",
        "from sklearn.pipeline import Pipeline\n",
        "\n",
        "from sklearn.metrics import precision_score, recall_score\n",
        "from sklearn.metrics import f1_score"
      ],
      "execution_count": 1,
      "outputs": []
    },
    {
      "cell_type": "code",
      "metadata": {
        "id": "otjSq9oi0x9f"
      },
      "source": [
        "data = pd.read_csv('../content/news.csv')"
      ],
      "execution_count": 4,
      "outputs": []
    },
    {
      "cell_type": "code",
      "metadata": {
        "colab": {
          "base_uri": "https://localhost:8080/",
          "height": 204
        },
        "id": "QWFvsW5S1V5L",
        "outputId": "2a5051a3-d690-4046-95e7-d09591252c02"
      },
      "source": [
        "data.head(5)"
      ],
      "execution_count": 5,
      "outputs": [
        {
          "output_type": "execute_result",
          "data": {
            "text/html": [
              "<div>\n",
              "<style scoped>\n",
              "    .dataframe tbody tr th:only-of-type {\n",
              "        vertical-align: middle;\n",
              "    }\n",
              "\n",
              "    .dataframe tbody tr th {\n",
              "        vertical-align: top;\n",
              "    }\n",
              "\n",
              "    .dataframe thead th {\n",
              "        text-align: right;\n",
              "    }\n",
              "</style>\n",
              "<table border=\"1\" class=\"dataframe\">\n",
              "  <thead>\n",
              "    <tr style=\"text-align: right;\">\n",
              "      <th></th>\n",
              "      <th>Unnamed: 0</th>\n",
              "      <th>title</th>\n",
              "      <th>text</th>\n",
              "      <th>label</th>\n",
              "    </tr>\n",
              "  </thead>\n",
              "  <tbody>\n",
              "    <tr>\n",
              "      <th>0</th>\n",
              "      <td>8476</td>\n",
              "      <td>You Can Smell Hillary’s Fear</td>\n",
              "      <td>Daniel Greenfield, a Shillman Journalism Fello...</td>\n",
              "      <td>FAKE</td>\n",
              "    </tr>\n",
              "    <tr>\n",
              "      <th>1</th>\n",
              "      <td>10294</td>\n",
              "      <td>Watch The Exact Moment Paul Ryan Committed Pol...</td>\n",
              "      <td>Google Pinterest Digg Linkedin Reddit Stumbleu...</td>\n",
              "      <td>FAKE</td>\n",
              "    </tr>\n",
              "    <tr>\n",
              "      <th>2</th>\n",
              "      <td>3608</td>\n",
              "      <td>Kerry to go to Paris in gesture of sympathy</td>\n",
              "      <td>U.S. Secretary of State John F. Kerry said Mon...</td>\n",
              "      <td>REAL</td>\n",
              "    </tr>\n",
              "    <tr>\n",
              "      <th>3</th>\n",
              "      <td>10142</td>\n",
              "      <td>Bernie supporters on Twitter erupt in anger ag...</td>\n",
              "      <td>— Kaydee King (@KaydeeKing) November 9, 2016 T...</td>\n",
              "      <td>FAKE</td>\n",
              "    </tr>\n",
              "    <tr>\n",
              "      <th>4</th>\n",
              "      <td>875</td>\n",
              "      <td>The Battle of New York: Why This Primary Matters</td>\n",
              "      <td>It's primary day in New York and front-runners...</td>\n",
              "      <td>REAL</td>\n",
              "    </tr>\n",
              "  </tbody>\n",
              "</table>\n",
              "</div>"
            ],
            "text/plain": [
              "   Unnamed: 0  ... label\n",
              "0        8476  ...  FAKE\n",
              "1       10294  ...  FAKE\n",
              "2        3608  ...  REAL\n",
              "3       10142  ...  FAKE\n",
              "4         875  ...  REAL\n",
              "\n",
              "[5 rows x 4 columns]"
            ]
          },
          "metadata": {
            "tags": []
          },
          "execution_count": 5
        }
      ]
    },
    {
      "cell_type": "code",
      "metadata": {
        "colab": {
          "base_uri": "https://localhost:8080/"
        },
        "id": "qWkQM5Xe1fLi",
        "outputId": "f0724380-48a0-497a-e49d-b4a3db417edc"
      },
      "source": [
        "data['label'].value_counts()"
      ],
      "execution_count": 6,
      "outputs": [
        {
          "output_type": "execute_result",
          "data": {
            "text/plain": [
              "REAL    3171\n",
              "FAKE    3164\n",
              "Name: label, dtype: int64"
            ]
          },
          "metadata": {
            "tags": []
          },
          "execution_count": 6
        }
      ]
    },
    {
      "cell_type": "code",
      "metadata": {
        "colab": {
          "base_uri": "https://localhost:8080/"
        },
        "id": "paRCDnBj1g-e",
        "outputId": "9787a39b-2058-4185-efd1-fe015f3e39e4"
      },
      "source": [
        "data.count()"
      ],
      "execution_count": 7,
      "outputs": [
        {
          "output_type": "execute_result",
          "data": {
            "text/plain": [
              "Unnamed: 0    6335\n",
              "title         6335\n",
              "text          6335\n",
              "label         6335\n",
              "dtype: int64"
            ]
          },
          "metadata": {
            "tags": []
          },
          "execution_count": 7
        }
      ]
    },
    {
      "cell_type": "code",
      "metadata": {
        "id": "OEf3-B0vWiUV"
      },
      "source": [
        "le = LabelEncoder()\n",
        "data['label'] = le.fit_transform(data['label'])"
      ],
      "execution_count": 8,
      "outputs": []
    },
    {
      "cell_type": "code",
      "metadata": {
        "id": "kto0wgXJCoTi"
      },
      "source": [
        "train_df, test_df = train_test_split(data, test_size=2000)"
      ],
      "execution_count": 9,
      "outputs": []
    },
    {
      "cell_type": "code",
      "metadata": {
        "id": "NrY3gNKBEeLA"
      },
      "source": [
        "snowball = SnowballStemmer(language=\"english\")\n",
        "russian_stop_words = stopwords.words(\"english\")\n",
        "\n",
        "def tokenize_sentence(sentence: str, remove_stop_words: bool = True):\n",
        "    tokens = word_tokenize(sentence, language=\"english\")\n",
        "    tokens = [i for i in tokens if i not in string.punctuation]\n",
        "    if remove_stop_words:\n",
        "        tokens = [i for i in tokens if i not in russian_stop_words]\n",
        "    tokens = [snowball.stem(i) for i in tokens]\n",
        "    return tokens"
      ],
      "execution_count": 11,
      "outputs": []
    },
    {
      "cell_type": "code",
      "metadata": {
        "colab": {
          "base_uri": "https://localhost:8080/"
        },
        "id": "xgHS0zTGElh9",
        "outputId": "2b1b4dab-b165-48f5-a170-860a6a1a868e"
      },
      "source": [
        "tokenize_sentence(data.iloc[1]['text'])"
      ],
      "execution_count": null,
      "outputs": [
        {
          "output_type": "execute_result",
          "data": {
            "text/plain": [
              "['googl',\n",
              " 'pinterest',\n",
              " 'digg',\n",
              " 'linkedin',\n",
              " 'reddit',\n",
              " 'stumbleupon',\n",
              " 'print',\n",
              " 'delici',\n",
              " 'pocket',\n",
              " 'tumblr',\n",
              " 'there',\n",
              " 'two',\n",
              " 'fundament',\n",
              " 'truth',\n",
              " 'world',\n",
              " 'paul',\n",
              " 'ryan',\n",
              " 'desper',\n",
              " 'want',\n",
              " 'presid',\n",
              " 'and',\n",
              " 'paul',\n",
              " 'ryan',\n",
              " 'never',\n",
              " 'presid',\n",
              " 'today',\n",
              " 'prove',\n",
              " 'in',\n",
              " 'particular',\n",
              " 'stagger',\n",
              " 'exampl',\n",
              " 'polit',\n",
              " 'cowardic',\n",
              " 'paul',\n",
              " 'ryan',\n",
              " 're-re-re-revers',\n",
              " 'cours',\n",
              " 'announc',\n",
              " 'back',\n",
              " 'trump',\n",
              " 'train',\n",
              " 'this',\n",
              " 'aboutfac',\n",
              " 'week',\n",
              " 'ago',\n",
              " 'he',\n",
              " 'previous',\n",
              " 'declar',\n",
              " 'would',\n",
              " 'support',\n",
              " 'defend',\n",
              " 'trump',\n",
              " 'tape',\n",
              " 'made',\n",
              " 'public',\n",
              " 'trump',\n",
              " 'brag',\n",
              " 'assault',\n",
              " 'women',\n",
              " 'sudden',\n",
              " 'ryan',\n",
              " 'appear',\n",
              " 'pro-trump',\n",
              " 'ralli',\n",
              " 'bold',\n",
              " 'declar',\n",
              " 'alreadi',\n",
              " 'sent',\n",
              " 'vote',\n",
              " 'make',\n",
              " 'presid',\n",
              " 'unit',\n",
              " 'state',\n",
              " 'it',\n",
              " 'surreal',\n",
              " 'moment',\n",
              " 'the',\n",
              " 'figurehead',\n",
              " 'republican',\n",
              " 'parti',\n",
              " 'dose',\n",
              " 'gasolin',\n",
              " 'got',\n",
              " 'stage',\n",
              " 'chilli',\n",
              " 'afternoon',\n",
              " 'wisconsin',\n",
              " 'lit',\n",
              " 'match',\n",
              " 'speakerryan',\n",
              " 'say',\n",
              " 'vote',\n",
              " 'realdonaldtrump',\n",
              " '“',\n",
              " 'republican',\n",
              " 'time',\n",
              " 'come',\n",
              " 'home',\n",
              " '”',\n",
              " 'https',\n",
              " '//t.co/vytt49yvo',\n",
              " 'pic.twitter.com/wcvscg4a5i',\n",
              " '—',\n",
              " 'abc',\n",
              " 'news',\n",
              " 'polit',\n",
              " 'abcpolit',\n",
              " 'novemb',\n",
              " '5',\n",
              " '2016',\n",
              " 'the',\n",
              " 'democrat',\n",
              " 'parti',\n",
              " '’',\n",
              " 'ask',\n",
              " 'better',\n",
              " 'moment',\n",
              " 'film',\n",
              " 'ryan',\n",
              " '’',\n",
              " 'chanc',\n",
              " 'ever',\n",
              " 'becom',\n",
              " 'presid',\n",
              " 'went',\n",
              " 'zero',\n",
              " 'instant',\n",
              " 'in',\n",
              " 'wreckag',\n",
              " 'trump',\n",
              " 'leav',\n",
              " 'behind',\n",
              " 'wake',\n",
              " 'craven',\n",
              " 'back',\n",
              " 'campaign',\n",
              " 'recov',\n",
              " 'if',\n",
              " 'ryan',\n",
              " '’',\n",
              " 'career',\n",
              " 'manag',\n",
              " 'limp',\n",
              " 'way',\n",
              " '2020',\n",
              " 'dnc',\n",
              " 'tape',\n",
              " 'lock',\n",
              " 'load',\n",
              " 'use',\n",
              " 'everi',\n",
              " 'ad',\n",
              " 'elect',\n",
              " 'day',\n",
              " 'the',\n",
              " 'ring',\n",
              " 'endors',\n",
              " 'man',\n",
              " 'clear',\n",
              " 'hate',\n",
              " 'person',\n",
              " 'level',\n",
              " 'speak',\n",
              " 'volum',\n",
              " 'spineless',\n",
              " 'ryan',\n",
              " 'postur',\n",
              " '“',\n",
              " 'principl',\n",
              " '”',\n",
              " 'conserv',\n",
              " 'one',\n",
              " 'uncomfort',\n",
              " 'trump',\n",
              " '’',\n",
              " 'unapologet',\n",
              " 'bigotri',\n",
              " 'sexism',\n",
              " 'howev',\n",
              " 'push',\n",
              " 'came',\n",
              " 'shove',\n",
              " 'paul',\n",
              " 'ryan',\n",
              " '–',\n",
              " 'like',\n",
              " 'mani',\n",
              " 'colleagu',\n",
              " '–',\n",
              " 'turn',\n",
              " 'snivel',\n",
              " 'appeas',\n",
              " 'after',\n",
              " 'lofti',\n",
              " 'tak',\n",
              " 'convict',\n",
              " 'principl',\n",
              " 'hous',\n",
              " 'card',\n",
              " 'collaps',\n",
              " 'slightest',\n",
              " 'breez',\n",
              " 'what',\n",
              " '’',\n",
              " 'especi',\n",
              " 'bizarr',\n",
              " 'close',\n",
              " 'ryan',\n",
              " 'came',\n",
              " 'make',\n",
              " 'unscath',\n",
              " 'for',\n",
              " 'month',\n",
              " 'speaker',\n",
              " 'hous',\n",
              " 'refus',\n",
              " 'comment',\n",
              " 'trump',\n",
              " 'his',\n",
              " 'strategi',\n",
              " 'seem',\n",
              " 'keep',\n",
              " 'head',\n",
              " 'pretend',\n",
              " 'trump',\n",
              " '’',\n",
              " 'exist',\n",
              " 'hope',\n",
              " 'nobodi',\n",
              " 'rememb',\n",
              " 'happen',\n",
              " '2016',\n",
              " 'now',\n",
              " 'day',\n",
              " 'away',\n",
              " 'elect',\n",
              " 'screw',\n",
              " 'if',\n",
              " '2016',\n",
              " '’',\n",
              " 'ugli',\n",
              " 'elect',\n",
              " 'done',\n",
              " 'good',\n",
              " '’',\n",
              " 'expos',\n",
              " 'utter',\n",
              " 'cowardic',\n",
              " 'republican',\n",
              " 'feign',\n",
              " 'moral',\n",
              " 'courag',\n",
              " 'a',\n",
              " 'realiti',\n",
              " 'televis',\n",
              " 'star',\n",
              " 'spit',\n",
              " 'hijack',\n",
              " 'parti',\n",
              " 'insult',\n",
              " 'wive',\n",
              " 'got',\n",
              " 'everi',\n",
              " 'last',\n",
              " 'one',\n",
              " 'kneel',\n",
              " 'what',\n",
              " 'turn',\n",
              " 'event',\n",
              " 'featur',\n",
              " 'imag',\n",
              " 'via',\n",
              " 'twitter']"
            ]
          },
          "metadata": {
            "tags": []
          },
          "execution_count": 17
        }
      ]
    },
    {
      "cell_type": "code",
      "metadata": {
        "id": "eAWgBMiQEv7G"
      },
      "source": [
        "tfidf = TfidfVectorizer(tokenizer =lambda x: tokenize_sentence(x, remove_stop_words=True))"
      ],
      "execution_count": 12,
      "outputs": []
    },
    {
      "cell_type": "code",
      "metadata": {
        "id": "1WXjETz6FVlJ"
      },
      "source": [
        "features = tfidf.fit_transform(train_df['text'])"
      ],
      "execution_count": 13,
      "outputs": []
    },
    {
      "cell_type": "code",
      "metadata": {
        "id": "uOAxfH7jHmRc"
      },
      "source": [
        "svc_pipeline = Pipeline([\n",
        "    (\"vectorizer\", TfidfVectorizer(tokenizer=lambda x: tokenize_sentence(x, remove_stop_words=True))),\n",
        "    (\"model\", SVC(random_state=241))\n",
        "]\n",
        ")\n",
        "rf_pipeline = Pipeline([\n",
        "    (\"vectorizer\", TfidfVectorizer(tokenizer=lambda x: tokenize_sentence(x, remove_stop_words=True))),\n",
        "    (\"model\", RandomForestClassifier(n_estimators=500,max_depth=10,random_state=241))\n",
        "]\n",
        ")\n",
        "gb_pipeline = Pipeline([\n",
        "    (\"vectorizer\", TfidfVectorizer(tokenizer=lambda x: tokenize_sentence(x, remove_stop_words=True))),\n",
        "    (\"model\", GradientBoostingClassifier(n_estimators=500,learning_rate=0.01,random_state=241))\n",
        "]\n",
        ")\n"
      ],
      "execution_count": 18,
      "outputs": []
    },
    {
      "cell_type": "code",
      "metadata": {
        "colab": {
          "base_uri": "https://localhost:8080/"
        },
        "id": "8sM8sd4cLv0p",
        "outputId": "122e3cb4-0430-4205-c194-9cb33f1864f3"
      },
      "source": [
        "i = 1\n",
        "for model in [svc_pipeline,rf_pipeline,gb_pipeline]:\n",
        "  model.fit(train_df['text'],train_df['label'])\n",
        "  y_pred = model.predict(test_df['text'])\n",
        "  print('Model #',i,f1_score(y_true=test_df['label'],y_pred=y_pred))\n",
        "  i +=1"
      ],
      "execution_count": 22,
      "outputs": [
        {
          "output_type": "stream",
          "text": [
            "Model #  1 0.9356608478802991\n",
            "Model #  2 0.8554973821989529\n",
            "Model #  3 0.8865461847389557\n"
          ],
          "name": "stdout"
        }
      ]
    },
    {
      "cell_type": "code",
      "metadata": {
        "colab": {
          "base_uri": "https://localhost:8080/"
        },
        "id": "mjDYU-O4H0bf",
        "outputId": "bb4c8975-7a7c-4148-a88e-9bbc552e214d"
      },
      "source": [
        "svc_pipeline.fit(train_df['text'],train_df['label'])"
      ],
      "execution_count": 23,
      "outputs": [
        {
          "output_type": "execute_result",
          "data": {
            "text/plain": [
              "Pipeline(memory=None,\n",
              "         steps=[('vectorizer',\n",
              "                 TfidfVectorizer(analyzer='word', binary=False,\n",
              "                                 decode_error='strict',\n",
              "                                 dtype=<class 'numpy.float64'>,\n",
              "                                 encoding='utf-8', input='content',\n",
              "                                 lowercase=True, max_df=1.0, max_features=None,\n",
              "                                 min_df=1, ngram_range=(1, 1), norm='l2',\n",
              "                                 preprocessor=None, smooth_idf=True,\n",
              "                                 stop_words=None, strip_accents=None,\n",
              "                                 sublinear_tf=False,\n",
              "                                 token_pattern='(?u)\\\\b\\\\w\\\\w+\\\\b',\n",
              "                                 tokenizer=<function <lambda> at 0x7fcad4730ef0>,\n",
              "                                 use_idf=True, vocabulary=None)),\n",
              "                ('model',\n",
              "                 SVC(C=1.0, break_ties=False, cache_size=200, class_weight=None,\n",
              "                     coef0=0.0, decision_function_shape='ovr', degree=3,\n",
              "                     gamma='scale', kernel='rbf', max_iter=-1,\n",
              "                     probability=False, random_state=241, shrinking=True,\n",
              "                     tol=0.001, verbose=False))],\n",
              "         verbose=False)"
            ]
          },
          "metadata": {
            "tags": []
          },
          "execution_count": 23
        }
      ]
    },
    {
      "cell_type": "code",
      "metadata": {
        "id": "rJROd0G2LeEF"
      },
      "source": [
        "y_pred = svc_pipeline.predict(test_df['text'])"
      ],
      "execution_count": 25,
      "outputs": []
    },
    {
      "cell_type": "code",
      "metadata": {
        "colab": {
          "base_uri": "https://localhost:8080/"
        },
        "id": "0Foy-B08Ous-",
        "outputId": "29b74168-1f0f-41da-f6fa-e113230196cf"
      },
      "source": [
        "precision_score(y_true=test_df['label'],y_pred=y_pred)"
      ],
      "execution_count": 27,
      "outputs": [
        {
          "output_type": "execute_result",
          "data": {
            "text/plain": [
              "0.9600818833162743"
            ]
          },
          "metadata": {
            "tags": []
          },
          "execution_count": 27
        }
      ]
    },
    {
      "cell_type": "code",
      "metadata": {
        "colab": {
          "base_uri": "https://localhost:8080/"
        },
        "id": "FpGDQ6ZRX9cg",
        "outputId": "2b94ad32-1c40-4c05-95f3-514cebece84d"
      },
      "source": [
        "recall_score(y_true=test_df['label'],y_pred=y_pred)"
      ],
      "execution_count": 28,
      "outputs": [
        {
          "output_type": "execute_result",
          "data": {
            "text/plain": [
              "0.9124513618677043"
            ]
          },
          "metadata": {
            "tags": []
          },
          "execution_count": 28
        }
      ]
    },
    {
      "cell_type": "code",
      "metadata": {
        "colab": {
          "base_uri": "https://localhost:8080/"
        },
        "id": "IVgmIBN4XYZI",
        "outputId": "4223dbe7-c719-4373-e65f-ae85f1bde8ab"
      },
      "source": [
        "f1_score(y_true=test_df['label'],y_pred=y_pred)"
      ],
      "execution_count": 29,
      "outputs": [
        {
          "output_type": "execute_result",
          "data": {
            "text/plain": [
              "0.9356608478802991"
            ]
          },
          "metadata": {
            "tags": []
          },
          "execution_count": 29
        }
      ]
    }
  ]
}